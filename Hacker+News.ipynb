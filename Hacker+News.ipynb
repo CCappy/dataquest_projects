{
 "cells": [
  {
   "cell_type": "markdown",
   "metadata": {
    "collapsed": true
   },
   "source": [
    "# Sorting Hacker News Articles\n",
    "* This is for the Guided Project: Exploring Hacker News Posts\n",
    "* It separates 20000 articles into show, ask, and other posts\n",
    "* Then it shows the average comments for each\n",
    "* Then it shows the average comments per hour for ask posts"
   ]
  },
  {
   "cell_type": "code",
   "execution_count": 2,
   "metadata": {
    "collapsed": false
   },
   "outputs": [],
   "source": [
    "from csv import reader\n",
    "opened = open('hacker_news.csv')\n",
    "read_file = reader(opened)\n",
    "hn = list(read_file)\n",
    "header = hn[:1]\n",
    "hn = hn[1:]"
   ]
  },
  {
   "cell_type": "markdown",
   "metadata": {},
   "source": [
    "* Separates posts into Ask HN and Show HN"
   ]
  },
  {
   "cell_type": "code",
   "execution_count": 3,
   "metadata": {
    "collapsed": false
   },
   "outputs": [
    {
     "name": "stdout",
     "output_type": "stream",
     "text": [
      "Ask Posts: 1740, Show posts: 1170, Other posts: 17190\n"
     ]
    }
   ],
   "source": [
    "ask_posts = []\n",
    "show_posts = []\n",
    "other_posts = []\n",
    "for row in hn:\n",
    "    title = row[1]\n",
    "    title = title.lower()\n",
    "    if 'show hn' in title:\n",
    "        show_posts.append(row)\n",
    "    elif 'ask hn' in title:\n",
    "        ask_posts.append(row)\n",
    "    else:\n",
    "        other_posts.append(row)\n",
    "print(\"Ask Posts: {0}, Show posts: {1}, Other posts: {2}\".format(len(ask_posts), len(show_posts), len(other_posts)))"
   ]
  },
  {
   "cell_type": "markdown",
   "metadata": {},
   "source": [
    "* Finding out which type of post has the most comments"
   ]
  },
  {
   "cell_type": "code",
   "execution_count": 4,
   "metadata": {
    "collapsed": false
   },
   "outputs": [
    {
     "name": "stdout",
     "output_type": "stream",
     "text": [
      "14.054597701149426\n",
      "10.283760683760685\n"
     ]
    }
   ],
   "source": [
    "total_ask_comments = 0\n",
    "i = 0\n",
    "for row in ask_posts:\n",
    "    num_comments = int(row[4])\n",
    "    total_ask_comments += num_comments\n",
    "    i += 1\n",
    "avg_ask_comments = total_ask_comments / i\n",
    "i = 0\n",
    "total_show_comments = 0\n",
    "for row in show_posts:\n",
    "    num_comments = int(row[4])\n",
    "    total_show_comments += num_comments\n",
    "    i += 1\n",
    "avg_show_comments = total_show_comments / i\n",
    "print(avg_ask_comments)\n",
    "print(avg_show_comments)"
   ]
  },
  {
   "cell_type": "markdown",
   "metadata": {},
   "source": [
    "* Uses datetime to determine the ratings and comments per hour of an ask post"
   ]
  },
  {
   "cell_type": "code",
   "execution_count": 9,
   "metadata": {
    "collapsed": false
   },
   "outputs": [
    {
     "name": "stdout",
     "output_type": "stream",
     "text": [
      "[['16', 16.796296296296298], ['13', 14.845238095238095], ['19', 10.8], ['09', 5.5777777777777775], ['18', 13.20183486238532], ['01', 11.383333333333333], ['10', 13.655172413793103], ['23', 7.898550724637682], ['08', 10.361702127659575], ['15', 38.5948275862069], ['21', 16.009174311926607], ['22', 6.746478873239437], ['14', 13.233644859813085], ['03', 7.796296296296297], ['07', 7.852941176470588], ['06', 9.209302325581396], ['11', 11.051724137931034], ['05', 10.08695652173913], ['12', 9.305555555555555], ['04', 7.170212765957447], ['20', 21.525], ['17', 11.46], ['02', 23.810344827586206], ['00', 8.127272727272727]]\n"
     ]
    }
   ],
   "source": [
    "import datetime as dt\n",
    "result_list = []\n",
    "for row in ask_posts:\n",
    "    created_at = row[6]\n",
    "    num_comments = int(row[4])\n",
    "    result_list.append([created_at, num_comments])\n",
    "counts_by_hour = {}\n",
    "comments_by_hour = {}\n",
    "for row in result_list:\n",
    "    hour = dt.datetime.strptime(row[0], \"%m/%d/%Y %H:%M\")\n",
    "    realHour = hour.strftime(\"%H\")\n",
    "    if realHour not in counts_by_hour:\n",
    "        counts_by_hour[realHour] = 1\n",
    "        comments_by_hour[realHour] = int(row[1])\n",
    "    else:\n",
    "        counts_by_hour[realHour] += 1\n",
    "        comments_by_hour[realHour] += int(row[1])\n",
    "        \n",
    "avg_by_hour = [[h, comments_by_hour[h]/counts_by_hour[h]] for h in counts_by_hour]\n",
    "\n",
    "print(avg_by_hour)"
   ]
  },
  {
   "cell_type": "markdown",
   "metadata": {
    "collapsed": true
   },
   "source": [
    "* Sorting avg_by_hour into a nice list"
   ]
  },
  {
   "cell_type": "code",
   "execution_count": 21,
   "metadata": {
    "collapsed": false
   },
   "outputs": [
    {
     "name": "stdout",
     "output_type": "stream",
     "text": [
      "[[16.796296296296298, '16'], [14.845238095238095, '13'], [10.8, '19'], [5.5777777777777775, '09'], [13.20183486238532, '18'], [11.383333333333333, '01'], [13.655172413793103, '10'], [7.898550724637682, '23'], [10.361702127659575, '08'], [38.5948275862069, '15'], [16.009174311926607, '21'], [6.746478873239437, '22'], [13.233644859813085, '14'], [7.796296296296297, '03'], [7.852941176470588, '07'], [9.209302325581396, '06'], [11.051724137931034, '11'], [10.08695652173913, '05'], [9.305555555555555, '12'], [7.170212765957447, '04'], [21.525, '20'], [11.46, '17'], [23.810344827586206, '02'], [8.127272727272727, '00']]\n",
      "Top 5 hours for Ask Posts Comments\n",
      "15:00 : 38.59 average comments per post\n",
      "02:00 : 23.81 average comments per post\n",
      "20:00 : 21.52 average comments per post\n",
      "16:00 : 16.80 average comments per post\n",
      "21:00 : 16.01 average comments per post\n",
      "13:00 : 14.85 average comments per post\n",
      "10:00 : 13.66 average comments per post\n",
      "14:00 : 13.23 average comments per post\n",
      "18:00 : 13.20 average comments per post\n",
      "17:00 : 11.46 average comments per post\n",
      "01:00 : 11.38 average comments per post\n",
      "11:00 : 11.05 average comments per post\n",
      "19:00 : 10.80 average comments per post\n",
      "08:00 : 10.36 average comments per post\n",
      "05:00 : 10.09 average comments per post\n",
      "12:00 : 9.31 average comments per post\n",
      "06:00 : 9.21 average comments per post\n",
      "00:00 : 8.13 average comments per post\n",
      "23:00 : 7.90 average comments per post\n",
      "07:00 : 7.85 average comments per post\n",
      "03:00 : 7.80 average comments per post\n",
      "04:00 : 7.17 average comments per post\n",
      "22:00 : 6.75 average comments per post\n",
      "09:00 : 5.58 average comments per post\n"
     ]
    }
   ],
   "source": [
    "swap_avg_by_hour = []\n",
    "for row in avg_by_hour:\n",
    "    swap_avg_by_hour.append([row[1], row[0]])\n",
    "print(swap_avg_by_hour)\n",
    "sorted_swap = sorted(swap_avg_by_hour, reverse=True)\n",
    "print(\"Top 5 hours for Ask Posts Comments\")\n",
    "for avg in sorted_swap:\n",
    "    avg_dt = dt.datetime.strptime(str(avg[1]),'%H')\n",
    "    avg_str = avg_dt.strftime(\"%H:%M\")\n",
    "    print(\"{0} : {1:.2f} average comments per post\".format(avg_str, avg[0]))"
   ]
  }
 ],
 "metadata": {
  "kernelspec": {
   "display_name": "Python 3",
   "language": "python",
   "name": "python3"
  },
  "language_info": {
   "codemirror_mode": {
    "name": "ipython",
    "version": 3
   },
   "file_extension": ".py",
   "mimetype": "text/x-python",
   "name": "python",
   "nbconvert_exporter": "python",
   "pygments_lexer": "ipython3",
   "version": "3.4.3"
  }
 },
 "nbformat": 4,
 "nbformat_minor": 2
}
